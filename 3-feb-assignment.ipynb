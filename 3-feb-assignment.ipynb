{
 "cells": [
  {
   "cell_type": "code",
   "execution_count": 2,
   "id": "f376c6ad-a84e-43b9-9479-e3f717d94486",
   "metadata": {},
   "outputs": [
    {
     "name": "stdout",
     "output_type": "stream",
     "text": [
      "[1, 3, 5, 7, 9, 11, 13, 15, 17, 19, 21, 23]\n"
     ]
    }
   ],
   "source": [
    "#Q1. Which keyword is used to create a function? \n",
    "#Create a function to return a list of odd numbers in the range of 1 to 25.\n",
    "\"\"\"def key is use to create function\"\"\"\n",
    "odd_num=[]\n",
    "def odd():\n",
    "    for num in range(1,25):\n",
    "        if num% 2!=0:\n",
    "            odd_num.append(num)\n",
    "    return odd_num\n",
    "print(odd())\n"
   ]
  },
  {
   "cell_type": "code",
   "execution_count": 12,
   "id": "0748bbdb-649b-4e2d-88d6-4ac7701a4cc8",
   "metadata": {},
   "outputs": [
    {
     "data": {
      "text/plain": [
       "(1, 2, 3, 'AJ', [2, 3, 5, 6])"
      ]
     },
     "execution_count": 12,
     "metadata": {},
     "output_type": "execute_result"
    }
   ],
   "source": [
    "#Q2. Why *args and **kwargs is used in some functions? Create a function \n",
    "#each for *args and **kwargs to demonstrate their use?\n",
    "\"\"\"*args passes variable number of non-keyworded arguments \n",
    "and (*)single-asterisk is use to pass any data in function \n",
    "in the form of tuple.\"\"\"\n",
    "\n",
    "def test1(*Aakash):\n",
    "    return Aakash\n",
    "\n",
    "test1(1,2,3, 'AJ' , [2,3,5,6])\n"
   ]
  },
  {
   "cell_type": "code",
   "execution_count": 15,
   "id": "2a82f16e-cae0-484a-9d4d-6e9df587cfd8",
   "metadata": {},
   "outputs": [
    {
     "data": {
      "text/plain": [
       "{'A': 1, 'B': 2, 'C': 3, 'D': 'AJ'}"
      ]
     },
     "execution_count": 15,
     "metadata": {},
     "output_type": "execute_result"
    }
   ],
   "source": [
    "#Q2 Ans-\n",
    "\"\"\"**kwargs allows us to pass a variable number of keyword arguments\n",
    "and (**) double-asterisk is use to pass data in function in the form of dict\"\"\"\n",
    "\n",
    "def test2(**Aakash):\n",
    "    return Aakash\n",
    "test2(A=1,B=2,C=3,D='AJ')"
   ]
  },
  {
   "cell_type": "code",
   "execution_count": 17,
   "id": "aa99aef5-3df6-42d3-9c16-97d3eaf3bbbb",
   "metadata": {},
   "outputs": [
    {
     "name": "stdout",
     "output_type": "stream",
     "text": [
      "2\n",
      "4\n",
      "6\n",
      "8\n",
      "10\n"
     ]
    }
   ],
   "source": [
    "#Q3. What is an iterator in python? \n",
    "#Name the method used to initialise the iterator object and the method \n",
    "#used for iteration.Use these methods to print the first five elements  \n",
    "#of the given list [2, 4, 6, 8, 10, 12, 14, 16, 18, 20]?\n",
    "\n",
    "\"\"\"An iterator is an object that contains a countable number of values. \n",
    "An iterator is an object that can be iterated upon, \n",
    "meaning that you can traverse through all the values. \n",
    "Technically, in Python, an iterator is an object which implements the  \n",
    "iterator protocol, which consist of the methods __iter__() and __next__() .\"\"\"\n",
    "\n",
    "l = [2, 4, 6, 8, 10, 12, 14, 16, 18, 20]\n",
    "it = iter(l)\n",
    "for i in range(5):\n",
    "    print(next(it))"
   ]
  },
  {
   "cell_type": "code",
   "execution_count": 18,
   "id": "a6e53284-348c-43fe-b71e-ae4d5577043a",
   "metadata": {},
   "outputs": [
    {
     "name": "stdout",
     "output_type": "stream",
     "text": [
      "<class 'generator'>\n",
      "Hello world!!\n",
      "Geeksforgeeks\n"
     ]
    }
   ],
   "source": [
    "#Q4. What is a generator function in python? Why yield keyword is used? Give an \n",
    "#example of a generator function?\n",
    "\"\"\"In Python, a generator is a function that returns an iterator that produces a sequence of values when iterated over.\n",
    "Generators are useful when we want to produce a large sequence of values,\n",
    " but we don't want to store all of them in memory at once.\"\"\"\n",
    "\n",
    "\"\"\"The Yield keyword in Python is similar to a return statement used for returning values or objects in Python.\n",
    " However, there is a slight difference.\n",
    " The yield statement returns a generator object to the one who calls the function which contains yield,\n",
    "  instead of simply returning a value\"\"\"\n",
    " \n",
    "def fun_generator():\n",
    "    yield \"Hello world!!\"\n",
    "    yield \"Geeksforgeeks\"\n",
    "\n",
    "\n",
    "obj = fun_generator()\n",
    "\n",
    "print(type(obj))\n",
    "\n",
    "print(next(obj))\n",
    "print(next(obj))\n",
    "\n"
   ]
  },
  {
   "cell_type": "code",
   "execution_count": 22,
   "id": "9ff8d536-5f09-4450-9c8e-218884981831",
   "metadata": {},
   "outputs": [
    {
     "name": "stdout",
     "output_type": "stream",
     "text": [
      "2\n",
      "3\n",
      "5\n",
      "7\n",
      "11\n",
      "13\n",
      "17\n",
      "19\n",
      "23\n",
      "29\n",
      "31\n",
      "37\n",
      "41\n",
      "43\n",
      "47\n",
      "49\n",
      "53\n",
      "59\n",
      "61\n",
      "67\n"
     ]
    }
   ],
   "source": [
    "#Q5. Create a generator function for prime numbers less than 1000.\n",
    "#Use the next() method to print the first 20 prime numbers.\n",
    "\n",
    "def prime_num():\n",
    "    num=1\n",
    "    while num<1000:\n",
    "        if num==1:\n",
    "            num+=1\n",
    "        elif num==2:\n",
    "            yield num\n",
    "            num+=1\n",
    "        elif num == 3:\n",
    "            yield num\n",
    "            num += 1\n",
    "        elif num == 5:\n",
    "            yield num\n",
    "            num += 1\n",
    "        elif num % 2 == 0 or num % 3 == 0 or num % 5 == 0:\n",
    "            num += 1\n",
    "        else:\n",
    "            yield num\n",
    "            num += 1\n",
    "\n",
    "\n",
    "values = prime_num()\n",
    "for i in range(20):\n",
    "    print(next(values))\n",
    "            "
   ]
  },
  {
   "cell_type": "code",
   "execution_count": 23,
   "id": "ff45ae4f-e7bc-413a-8a2e-62a917da26ce",
   "metadata": {},
   "outputs": [
    {
     "name": "stdin",
     "output_type": "stream",
     "text": [
      "enter number 10\n"
     ]
    },
    {
     "name": "stdout",
     "output_type": "stream",
     "text": [
      "0\n",
      "1\n",
      "1\n",
      "2\n",
      "3\n",
      "5\n",
      "8\n",
      "13\n",
      "21\n",
      "34\n"
     ]
    }
   ],
   "source": [
    "#Q6. Write a python program to print the first \n",
    "#10 Fibonacci numbers using a while loop.\n",
    "number =int(input('enter number'))\n",
    "a=0\n",
    "b=1\n",
    "counter=0\n",
    "while counter<number:\n",
    "    print(a)\n",
    "    c=a+b\n",
    "    a=b\n",
    "    b=c\n",
    "    counter= counter +1\n"
   ]
  },
  {
   "cell_type": "code",
   "execution_count": 27,
   "id": "a3978903-e193-4ab9-911d-81ce637126b1",
   "metadata": {},
   "outputs": [
    {
     "name": "stdin",
     "output_type": "stream",
     "text": [
      "string =  pwskills\n"
     ]
    },
    {
     "name": "stdout",
     "output_type": "stream",
     "text": [
      "['p', 'w', 's', 'k', 'i', 'l', 'l', 's']\n"
     ]
    }
   ],
   "source": [
    "#Q7. Write a List Comprehension to iterate through the given string: ‘pwskills’.\n",
    "#Expected output: ['p', 'w', 's', 'k', 'i', 'l', 'l', 's']\n",
    "\n",
    "S= input('string = ')\n",
    "print(list(S))"
   ]
  },
  {
   "cell_type": "code",
   "execution_count": 28,
   "id": "8095f555-5e46-4783-b930-bbb49b18c23c",
   "metadata": {},
   "outputs": [
    {
     "name": "stdin",
     "output_type": "stream",
     "text": [
      "Number =  1\n"
     ]
    },
    {
     "name": "stdout",
     "output_type": "stream",
     "text": [
      "Pallindrome Number \n"
     ]
    }
   ],
   "source": [
    "#Q8. Write a python program to check whether a given number \n",
    "#is Palindrome or not using a while loop.\n",
    "\n",
    "n = int(input('Number = '))\n",
    "temp = n \n",
    "rev = 0\n",
    "while temp>0:\n",
    "    rev = rev*10 + (temp%10)\n",
    "    temp = temp//10\n",
    "if n==rev:\n",
    "    print('Pallindrome Number ')\n",
    "else:\n",
    "    print('Not a Pallindrome Number ')"
   ]
  },
  {
   "cell_type": "code",
   "execution_count": 29,
   "id": "1ada68d6-a19c-4884-b733-628fb131e309",
   "metadata": {},
   "outputs": [
    {
     "name": "stdout",
     "output_type": "stream",
     "text": [
      "[1, 3, 5, 7, 9, 11, 13, 15, 17, 19, 21, 23, 25, 27, 29, 31, 33, 35, 37, 39, 41, 43, 45, 47, 49, 51, 53, 55, 57, 59, 61, 63, 65, 67, 69, 71, 73, 75, 77, 79, 81, 83, 85, 87, 89, 91, 93, 95, 97, 99]\n"
     ]
    }
   ],
   "source": [
    "#Q9. Write a code to print odd numbers from 1 to 100 using list comprehension.\n",
    "\n",
    "odd_num = [num for num in [num for num in range(1,101)] if num%2 !=0]\n",
    "print(odd_num)"
   ]
  },
  {
   "cell_type": "code",
   "execution_count": null,
   "id": "72943af5-3a28-4e4d-ac04-d20f3a49fdc4",
   "metadata": {},
   "outputs": [],
   "source": []
  }
 ],
 "metadata": {
  "kernelspec": {
   "display_name": "Python 3 (ipykernel)",
   "language": "python",
   "name": "python3"
  },
  "language_info": {
   "codemirror_mode": {
    "name": "ipython",
    "version": 3
   },
   "file_extension": ".py",
   "mimetype": "text/x-python",
   "name": "python",
   "nbconvert_exporter": "python",
   "pygments_lexer": "ipython3",
   "version": "3.10.8"
  }
 },
 "nbformat": 4,
 "nbformat_minor": 5
}
